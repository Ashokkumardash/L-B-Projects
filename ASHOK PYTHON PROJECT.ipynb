{
 "cells": [
  {
   "cell_type": "code",
   "execution_count": 1,
   "id": "149722b3",
   "metadata": {},
   "outputs": [],
   "source": [
    "students = []\n",
    "\n",
    "def accept_users():\n",
    "    name = input(\"Enter user name: \")\n",
    "    roll_no = input(\"Enter user roll number: \")\n",
    "    marks1 = float(input(\"Enter marks for subject 1: \"))\n",
    "    marks2 = float(input(\"Enter marks for subject 2: \"))\n",
    "\n",
    "    user = {\n",
    "        \"user_name\": name,\n",
    "        \"user_roll_number\": roll_no,\n",
    "        \"subject_1_marks\": marks1,\n",
    "        \"subject_2_marks\": marks2\n",
    "    }\n",
    "\n",
    "    students.append(user)\n",
    "    print(\"User data accepted.\")\n",
    "\n",
    "def display_users():\n",
    "    if not students:\n",
    "        print(\"No user data available.\")\n",
    "        return\n",
    "\n",
    "    print(\"User Data:\")\n",
    "    for user in students:\n",
    "        print(\"Name:\", user[\"user_name\"])\n",
    "        print(\"Roll Number:\", user[\"user_roll_number\"])\n",
    "        print(\"Marks 1:\", user[\"subject_1_marks\"])\n",
    "        print(\"Marks 2:\", user[\"subject_2_marks\"])\n",
    "        print()\n",
    "\n",
    "def search_user_by_name(name):\n",
    "    found_users = []\n",
    "    for user in students:\n",
    "        if user[\"user_name\"].lower() == name.lower():\n",
    "            found_users.append(user)\n",
    "\n",
    "    if not found_users:\n",
    "        print(\"No user with the given name found.\")\n",
    "        return\n",
    "\n",
    "    print(\"User(s) Found:\")\n",
    "    for user in found_users:\n",
    "        print(\"Name:\", user[\"user_name\"])\n",
    "        print(\"Roll Number:\", user[\"user_roll_number\"])\n",
    "        print(\"Marks 1:\", user[\"subject_1_marks\"])\n",
    "        print(\"Marks 2:\", user[\"subject_2_marks\"])\n",
    "        print()\n",
    "\n",
    "def delete_user(roll_number):\n",
    "    for user in students:\n",
    "        if user[\"user_roll_number\"] == roll_number:\n",
    "            students.remove(user)\n",
    "            print(\"User data deleted successfully.\")\n",
    "            return\n",
    "\n",
    "    print(\"No user with the given roll number found.\")\n",
    "\n",
    "def update_user(roll_number):\n",
    "    for user in students:\n",
    "        if user[\"user_roll_number\"] == roll_number:\n",
    "            print(\"Enter updated details for the user:\")\n",
    "            user[\"user_name\"] = input(\"Enter updated name: \")\n",
    "            user[\"user_roll_number\"] = input(\"Enter updated roll number: \")\n",
    "            user[\"subject_1_marks\"] = float(input(\"Enter updated marks for subject 1: \"))\n",
    "            user[\"subject_2_marks\"] = float(input(\"Enter updated marks for subject 2: \"))\n",
    "            print(\"User data updated successfully.\")\n",
    "            return\n",
    "\n",
    "    print(\"No user with the given roll number found.\")\n"
   ]
  },
  {
   "cell_type": "code",
   "execution_count": 2,
   "id": "86d83e76",
   "metadata": {},
   "outputs": [
    {
     "name": "stdout",
     "output_type": "stream",
     "text": [
      "Enter user name: ashok\n",
      "Enter user roll number: 21cse337\n",
      "Enter marks for subject 1: 80\n",
      "Enter marks for subject 2: 80\n",
      "User data accepted.\n"
     ]
    }
   ],
   "source": [
    "accept_users()"
   ]
  },
  {
   "cell_type": "code",
   "execution_count": 3,
   "id": "7d4f0cdb",
   "metadata": {},
   "outputs": [
    {
     "name": "stdout",
     "output_type": "stream",
     "text": [
      "Enter user name: uttam\n",
      "Enter user roll number: 21cse566\n",
      "Enter marks for subject 1: 90\n",
      "Enter marks for subject 2: 90\n",
      "User data accepted.\n"
     ]
    }
   ],
   "source": [
    "accept_users()"
   ]
  },
  {
   "cell_type": "code",
   "execution_count": 5,
   "id": "afdf1a64",
   "metadata": {},
   "outputs": [
    {
     "name": "stdout",
     "output_type": "stream",
     "text": [
      "User Data:\n",
      "Name: ashok\n",
      "Roll Number: 21cse337\n",
      "Marks 1: 80.0\n",
      "Marks 2: 80.0\n",
      "\n",
      "Name: uttam\n",
      "Roll Number: 21cse566\n",
      "Marks 1: 90.0\n",
      "Marks 2: 90.0\n",
      "\n"
     ]
    }
   ],
   "source": [
    "display_users()"
   ]
  },
  {
   "cell_type": "code",
   "execution_count": 7,
   "id": "9cd6c930",
   "metadata": {},
   "outputs": [
    {
     "name": "stdout",
     "output_type": "stream",
     "text": [
      "User(s) Found:\n",
      "Name: ashok\n",
      "Roll Number: 21cse337\n",
      "Marks 1: 80.0\n",
      "Marks 2: 80.0\n",
      "\n"
     ]
    }
   ],
   "source": [
    "search_user_by_name('ashok')"
   ]
  },
  {
   "cell_type": "code",
   "execution_count": 8,
   "id": "2504e1e9",
   "metadata": {},
   "outputs": [
    {
     "name": "stdout",
     "output_type": "stream",
     "text": [
      "Enter updated details for the user:\n",
      "Enter updated name: ashok dash\n",
      "Enter updated roll number: 21cse337\n",
      "Enter updated marks for subject 1: 80\n",
      "Enter updated marks for subject 2: 80\n",
      "User data updated successfully.\n"
     ]
    }
   ],
   "source": [
    "update_user(\"21cse337\")"
   ]
  },
  {
   "cell_type": "code",
   "execution_count": 9,
   "id": "6e71b6cf",
   "metadata": {},
   "outputs": [
    {
     "name": "stdout",
     "output_type": "stream",
     "text": [
      "User Data:\n",
      "Name: ashok dash\n",
      "Roll Number: 21cse337\n",
      "Marks 1: 80.0\n",
      "Marks 2: 80.0\n",
      "\n",
      "Name: uttam\n",
      "Roll Number: 21cse566\n",
      "Marks 1: 90.0\n",
      "Marks 2: 90.0\n",
      "\n"
     ]
    }
   ],
   "source": [
    "display_users()"
   ]
  },
  {
   "cell_type": "code",
   "execution_count": 10,
   "id": "d4617789",
   "metadata": {},
   "outputs": [
    {
     "name": "stdout",
     "output_type": "stream",
     "text": [
      "User data deleted successfully.\n"
     ]
    }
   ],
   "source": [
    "delete_user('21cse566')"
   ]
  },
  {
   "cell_type": "code",
   "execution_count": 12,
   "id": "ebad7a9d",
   "metadata": {},
   "outputs": [
    {
     "name": "stdout",
     "output_type": "stream",
     "text": [
      "User Data:\n",
      "Name: ashok dash\n",
      "Roll Number: 21cse337\n",
      "Marks 1: 80.0\n",
      "Marks 2: 80.0\n",
      "\n"
     ]
    }
   ],
   "source": [
    "display_users()"
   ]
  },
  {
   "cell_type": "code",
   "execution_count": null,
   "id": "eb9ca28d",
   "metadata": {},
   "outputs": [],
   "source": []
  }
 ],
 "metadata": {
  "kernelspec": {
   "display_name": "Python 3 (ipykernel)",
   "language": "python",
   "name": "python3"
  },
  "language_info": {
   "codemirror_mode": {
    "name": "ipython",
    "version": 3
   },
   "file_extension": ".py",
   "mimetype": "text/x-python",
   "name": "python",
   "nbconvert_exporter": "python",
   "pygments_lexer": "ipython3",
   "version": "3.11.0"
  }
 },
 "nbformat": 4,
 "nbformat_minor": 5
}
